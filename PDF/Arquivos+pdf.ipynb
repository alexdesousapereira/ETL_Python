{
 "cells": [
  {
   "cell_type": "markdown",
   "metadata": {},
   "source": [
    "fonte: https://dados.gov.br/dataset/sistema-de-divida-ativa"
   ]
  },
  {
   "cell_type": "markdown",
   "metadata": {},
   "source": [
    "### Bibliotecas"
   ]
  },
  {
   "cell_type": "code",
   "execution_count": 1,
   "metadata": {},
   "outputs": [],
   "source": [
    "import pandas as pd\n",
    "import numpy as np\n",
    "from google.oauth2 import service_account"
   ]
  },
  {
   "cell_type": "code",
   "execution_count": 2,
   "metadata": {},
   "outputs": [
    {
     "name": "stdout",
     "output_type": "stream",
     "text": [
      "Collecting tabula-py\n",
      "  Using cached tabula_py-2.4.0-py3-none-any.whl (12.0 MB)\n",
      "Collecting distro\n",
      "  Using cached distro-1.7.0-py3-none-any.whl (20 kB)\n",
      "Requirement already satisfied: pandas>=0.25.3 in /home/alex/.virtualenvs/etl/lib/python3.10/site-packages (from tabula-py) (1.4.2)\n",
      "Requirement already satisfied: numpy in /home/alex/.virtualenvs/etl/lib/python3.10/site-packages (from tabula-py) (1.23.0)\n",
      "Requirement already satisfied: pytz>=2020.1 in /home/alex/.virtualenvs/etl/lib/python3.10/site-packages (from pandas>=0.25.3->tabula-py) (2022.1)\n",
      "Requirement already satisfied: python-dateutil>=2.8.1 in /home/alex/.virtualenvs/etl/lib/python3.10/site-packages (from pandas>=0.25.3->tabula-py) (2.8.2)\n",
      "Requirement already satisfied: six>=1.5 in /home/alex/.virtualenvs/etl/lib/python3.10/site-packages (from python-dateutil>=2.8.1->pandas>=0.25.3->tabula-py) (1.16.0)\n",
      "Installing collected packages: distro, tabula-py\n",
      "Successfully installed distro-1.7.0 tabula-py-2.4.0\n"
     ]
    }
   ],
   "source": [
    "!pip install --upgrade tabula-py"
   ]
  },
  {
   "cell_type": "code",
   "execution_count": 4,
   "metadata": {},
   "outputs": [],
   "source": [
    "import tabula # leitor pdf"
   ]
  },
  {
   "cell_type": "markdown",
   "metadata": {},
   "source": [
    "### Extração"
   ]
  },
  {
   "cell_type": "code",
   "execution_count": 11,
   "metadata": {},
   "outputs": [],
   "source": [
    "df = tabula.read_pdf('Dicionario+de+Dados+-+Procuradoria.pdf', pages='all')"
   ]
  },
  {
   "cell_type": "code",
   "execution_count": 12,
   "metadata": {},
   "outputs": [],
   "source": [
    "df = df[0]"
   ]
  },
  {
   "cell_type": "code",
   "execution_count": 13,
   "metadata": {},
   "outputs": [
    {
     "data": {
      "text/html": [
       "<div>\n",
       "<style scoped>\n",
       "    .dataframe tbody tr th:only-of-type {\n",
       "        vertical-align: middle;\n",
       "    }\n",
       "\n",
       "    .dataframe tbody tr th {\n",
       "        vertical-align: top;\n",
       "    }\n",
       "\n",
       "    .dataframe thead th {\n",
       "        text-align: right;\n",
       "    }\n",
       "</style>\n",
       "<table border=\"1\" class=\"dataframe\">\n",
       "  <thead>\n",
       "    <tr style=\"text-align: right;\">\n",
       "      <th></th>\n",
       "      <th>Dado</th>\n",
       "      <th>Tipo</th>\n",
       "      <th>Descrição</th>\n",
       "    </tr>\n",
       "  </thead>\n",
       "  <tbody>\n",
       "    <tr>\n",
       "      <th>0</th>\n",
       "      <td>CPF_CNPJ</td>\n",
       "      <td>Numérico</td>\n",
       "      <td>CPF ou CNPJ do titular</td>\n",
       "    </tr>\n",
       "    <tr>\n",
       "      <th>1</th>\n",
       "      <td>NaN</td>\n",
       "      <td>NaN</td>\n",
       "      <td>devedor</td>\n",
       "    </tr>\n",
       "    <tr>\n",
       "      <th>2</th>\n",
       "      <td>Interessado</td>\n",
       "      <td>Alfanumérico</td>\n",
       "      <td>Nome do titular devedor</td>\n",
       "    </tr>\n",
       "    <tr>\n",
       "      <th>3</th>\n",
       "      <td>NumeroDoProcesso</td>\n",
       "      <td>Numérico</td>\n",
       "      <td>Número atribuído ao</td>\n",
       "    </tr>\n",
       "    <tr>\n",
       "      <th>4</th>\n",
       "      <td>NaN</td>\n",
       "      <td>NaN</td>\n",
       "      <td>processo de cobrança</td>\n",
       "    </tr>\n",
       "    <tr>\n",
       "      <th>5</th>\n",
       "      <td>AnoDoProcesso</td>\n",
       "      <td>Numérico</td>\n",
       "      <td>Ano em que o processo de</td>\n",
       "    </tr>\n",
       "    <tr>\n",
       "      <th>6</th>\n",
       "      <td>NaN</td>\n",
       "      <td>NaN</td>\n",
       "      <td>cobrança foi criado</td>\n",
       "    </tr>\n",
       "    <tr>\n",
       "      <th>7</th>\n",
       "      <td>Receita</td>\n",
       "      <td>Alfanumérico</td>\n",
       "      <td>Motivação para geração da</td>\n",
       "    </tr>\n",
       "    <tr>\n",
       "      <th>8</th>\n",
       "      <td>NaN</td>\n",
       "      <td>NaN</td>\n",
       "      <td>dívida do titular</td>\n",
       "    </tr>\n",
       "    <tr>\n",
       "      <th>9</th>\n",
       "      <td>NaN</td>\n",
       "      <td>NaN</td>\n",
       "      <td>(Ex: Taxa Anual por Hectare –</td>\n",
       "    </tr>\n",
       "    <tr>\n",
       "      <th>10</th>\n",
       "      <td>NaN</td>\n",
       "      <td>NaN</td>\n",
       "      <td>TAH)</td>\n",
       "    </tr>\n",
       "    <tr>\n",
       "      <th>11</th>\n",
       "      <td>NumeroCDA</td>\n",
       "      <td>Alfanumérico</td>\n",
       "      <td>Número de inscrição da</td>\n",
       "    </tr>\n",
       "    <tr>\n",
       "      <th>12</th>\n",
       "      <td>NaN</td>\n",
       "      <td>NaN</td>\n",
       "      <td>Certidão de Dívida Ativa</td>\n",
       "    </tr>\n",
       "    <tr>\n",
       "      <th>13</th>\n",
       "      <td>ValorAtualizado</td>\n",
       "      <td>Alfanumérico</td>\n",
       "      <td>Valor atualizado para a</td>\n",
       "    </tr>\n",
       "    <tr>\n",
       "      <th>14</th>\n",
       "      <td>NaN</td>\n",
       "      <td>NaN</td>\n",
       "      <td>dívida calculado pelo</td>\n",
       "    </tr>\n",
       "    <tr>\n",
       "      <th>15</th>\n",
       "      <td>NaN</td>\n",
       "      <td>NaN</td>\n",
       "      <td>Sistema de Dívida Ativa</td>\n",
       "    </tr>\n",
       "    <tr>\n",
       "      <th>16</th>\n",
       "      <td>DataAtualização</td>\n",
       "      <td>Data e Hora</td>\n",
       "      <td>Instante em que o campo</td>\n",
       "    </tr>\n",
       "    <tr>\n",
       "      <th>17</th>\n",
       "      <td>NaN</td>\n",
       "      <td>NaN</td>\n",
       "      <td>‘ValorAtualizado’ teve sua</td>\n",
       "    </tr>\n",
       "    <tr>\n",
       "      <th>18</th>\n",
       "      <td>NaN</td>\n",
       "      <td>NaN</td>\n",
       "      <td>última atualização</td>\n",
       "    </tr>\n",
       "    <tr>\n",
       "      <th>19</th>\n",
       "      <td>StatusDivida</td>\n",
       "      <td>Alfanumérico</td>\n",
       "      <td>Descrição da situação atual</td>\n",
       "    </tr>\n",
       "    <tr>\n",
       "      <th>20</th>\n",
       "      <td>NaN</td>\n",
       "      <td>NaN</td>\n",
       "      <td>do processo de cobrança</td>\n",
       "    </tr>\n",
       "    <tr>\n",
       "      <th>21</th>\n",
       "      <td>NaN</td>\n",
       "      <td>NaN</td>\n",
       "      <td>(Ex: Divida em Parcelamento)</td>\n",
       "    </tr>\n",
       "  </tbody>\n",
       "</table>\n",
       "</div>"
      ],
      "text/plain": [
       "                Dado          Tipo                      Descrição\n",
       "0           CPF_CNPJ      Numérico         CPF ou CNPJ do titular\n",
       "1                NaN           NaN                        devedor\n",
       "2        Interessado  Alfanumérico        Nome do titular devedor\n",
       "3   NumeroDoProcesso      Numérico            Número atribuído ao\n",
       "4                NaN           NaN           processo de cobrança\n",
       "5      AnoDoProcesso      Numérico       Ano em que o processo de\n",
       "6                NaN           NaN            cobrança foi criado\n",
       "7            Receita  Alfanumérico      Motivação para geração da\n",
       "8                NaN           NaN              dívida do titular\n",
       "9                NaN           NaN  (Ex: Taxa Anual por Hectare –\n",
       "10               NaN           NaN                           TAH)\n",
       "11         NumeroCDA  Alfanumérico         Número de inscrição da\n",
       "12               NaN           NaN       Certidão de Dívida Ativa\n",
       "13   ValorAtualizado  Alfanumérico        Valor atualizado para a\n",
       "14               NaN           NaN          dívida calculado pelo\n",
       "15               NaN           NaN        Sistema de Dívida Ativa\n",
       "16   DataAtualização   Data e Hora        Instante em que o campo\n",
       "17               NaN           NaN     ‘ValorAtualizado’ teve sua\n",
       "18               NaN           NaN             última atualização\n",
       "19      StatusDivida  Alfanumérico    Descrição da situação atual\n",
       "20               NaN           NaN        do processo de cobrança\n",
       "21               NaN           NaN   (Ex: Divida em Parcelamento)"
      ]
     },
     "execution_count": 13,
     "metadata": {},
     "output_type": "execute_result"
    }
   ],
   "source": [
    "df"
   ]
  },
  {
   "cell_type": "markdown",
   "metadata": {},
   "source": [
    "### Transformação"
   ]
  },
  {
   "cell_type": "code",
   "execution_count": 14,
   "metadata": {},
   "outputs": [],
   "source": [
    "dado = []\n",
    "tipo = []\n",
    "descricao = []"
   ]
  },
  {
   "cell_type": "code",
   "execution_count": 15,
   "metadata": {},
   "outputs": [
    {
     "data": {
      "text/plain": [
       "22"
      ]
     },
     "execution_count": 15,
     "metadata": {},
     "output_type": "execute_result"
    }
   ],
   "source": [
    "len(df)"
   ]
  },
  {
   "cell_type": "code",
   "execution_count": 16,
   "metadata": {},
   "outputs": [],
   "source": [
    "for i in range(0, 22):\n",
    "    if i+1 >= 22:\n",
    "        break\n",
    "    if pd.isna(df['Dado'][i]) == True:\n",
    "        pass\n",
    "    elif pd.isna(df['Dado'][i+1]) == True:\n",
    "        descricao_aux = df['Descrição'][i]\n",
    "        for j in range(i+1, 22):\n",
    "            if pd.isna(df['Dado'][j]) == False:\n",
    "                break\n",
    "            else:\n",
    "                descricao_aux = descricao_aux + ' ' + df['Descrição'][j]\n",
    "        dado.append(df['Dado'][i])\n",
    "        tipo.append(df['Tipo'][i])\n",
    "        descricao.append(descricao_aux)\n",
    "    else:\n",
    "        dado.append(df['Dado'][i])\n",
    "        tipo.append(df['Tipo'][i])\n",
    "        descricao.append(df['Descrição'][i])"
   ]
  },
  {
   "cell_type": "code",
   "execution_count": 17,
   "metadata": {},
   "outputs": [],
   "source": [
    "df_final = pd.DataFrame({'Dado': dado, \n",
    "                         'Tipo': tipo, \n",
    "                         'Descrição': descricao})"
   ]
  },
  {
   "cell_type": "code",
   "execution_count": 18,
   "metadata": {},
   "outputs": [
    {
     "data": {
      "text/plain": [
       "array(['Motivação para geração da dívida do titular (Ex: Taxa Anual por Hectare – TAH)'],\n",
       "      dtype=object)"
      ]
     },
     "execution_count": 18,
     "metadata": {},
     "output_type": "execute_result"
    }
   ],
   "source": [
    "df_final[df_final.Dado == 'Receita']['Descrição'].values"
   ]
  },
  {
   "cell_type": "code",
   "execution_count": 19,
   "metadata": {},
   "outputs": [
    {
     "data": {
      "text/html": [
       "<div>\n",
       "<style scoped>\n",
       "    .dataframe tbody tr th:only-of-type {\n",
       "        vertical-align: middle;\n",
       "    }\n",
       "\n",
       "    .dataframe tbody tr th {\n",
       "        vertical-align: top;\n",
       "    }\n",
       "\n",
       "    .dataframe thead th {\n",
       "        text-align: right;\n",
       "    }\n",
       "</style>\n",
       "<table border=\"1\" class=\"dataframe\">\n",
       "  <thead>\n",
       "    <tr style=\"text-align: right;\">\n",
       "      <th></th>\n",
       "      <th>Dado</th>\n",
       "      <th>Tipo</th>\n",
       "      <th>Descrição</th>\n",
       "    </tr>\n",
       "  </thead>\n",
       "  <tbody>\n",
       "    <tr>\n",
       "      <th>0</th>\n",
       "      <td>CPF_CNPJ</td>\n",
       "      <td>Numérico</td>\n",
       "      <td>CPF ou CNPJ do titular devedor</td>\n",
       "    </tr>\n",
       "    <tr>\n",
       "      <th>1</th>\n",
       "      <td>Interessado</td>\n",
       "      <td>Alfanumérico</td>\n",
       "      <td>Nome do titular devedor</td>\n",
       "    </tr>\n",
       "    <tr>\n",
       "      <th>2</th>\n",
       "      <td>NumeroDoProcesso</td>\n",
       "      <td>Numérico</td>\n",
       "      <td>Número atribuído ao processo de cobrança</td>\n",
       "    </tr>\n",
       "    <tr>\n",
       "      <th>3</th>\n",
       "      <td>AnoDoProcesso</td>\n",
       "      <td>Numérico</td>\n",
       "      <td>Ano em que o processo de cobrança foi criado</td>\n",
       "    </tr>\n",
       "    <tr>\n",
       "      <th>4</th>\n",
       "      <td>Receita</td>\n",
       "      <td>Alfanumérico</td>\n",
       "      <td>Motivação para geração da dívida do titular (E...</td>\n",
       "    </tr>\n",
       "    <tr>\n",
       "      <th>5</th>\n",
       "      <td>NumeroCDA</td>\n",
       "      <td>Alfanumérico</td>\n",
       "      <td>Número de inscrição da Certidão de Dívida Ativa</td>\n",
       "    </tr>\n",
       "    <tr>\n",
       "      <th>6</th>\n",
       "      <td>ValorAtualizado</td>\n",
       "      <td>Alfanumérico</td>\n",
       "      <td>Valor atualizado para a dívida calculado pelo ...</td>\n",
       "    </tr>\n",
       "    <tr>\n",
       "      <th>7</th>\n",
       "      <td>DataAtualização</td>\n",
       "      <td>Data e Hora</td>\n",
       "      <td>Instante em que o campo ‘ValorAtualizado’ teve...</td>\n",
       "    </tr>\n",
       "    <tr>\n",
       "      <th>8</th>\n",
       "      <td>StatusDivida</td>\n",
       "      <td>Alfanumérico</td>\n",
       "      <td>Descrição da situação atual do processo de cob...</td>\n",
       "    </tr>\n",
       "  </tbody>\n",
       "</table>\n",
       "</div>"
      ],
      "text/plain": [
       "               Dado          Tipo  \\\n",
       "0          CPF_CNPJ      Numérico   \n",
       "1       Interessado  Alfanumérico   \n",
       "2  NumeroDoProcesso      Numérico   \n",
       "3     AnoDoProcesso      Numérico   \n",
       "4           Receita  Alfanumérico   \n",
       "5         NumeroCDA  Alfanumérico   \n",
       "6   ValorAtualizado  Alfanumérico   \n",
       "7   DataAtualização   Data e Hora   \n",
       "8      StatusDivida  Alfanumérico   \n",
       "\n",
       "                                           Descrição  \n",
       "0                     CPF ou CNPJ do titular devedor  \n",
       "1                            Nome do titular devedor  \n",
       "2           Número atribuído ao processo de cobrança  \n",
       "3       Ano em que o processo de cobrança foi criado  \n",
       "4  Motivação para geração da dívida do titular (E...  \n",
       "5    Número de inscrição da Certidão de Dívida Ativa  \n",
       "6  Valor atualizado para a dívida calculado pelo ...  \n",
       "7  Instante em que o campo ‘ValorAtualizado’ teve...  \n",
       "8  Descrição da situação atual do processo de cob...  "
      ]
     },
     "execution_count": 19,
     "metadata": {},
     "output_type": "execute_result"
    }
   ],
   "source": [
    "df_final"
   ]
  },
  {
   "cell_type": "code",
   "execution_count": 20,
   "metadata": {},
   "outputs": [],
   "source": [
    "df_final.rename(columns={'Descrição': 'Descricao'}, inplace=True)"
   ]
  },
  {
   "cell_type": "markdown",
   "metadata": {},
   "source": [
    "### Carregamento"
   ]
  },
  {
   "cell_type": "code",
   "execution_count": 21,
   "metadata": {},
   "outputs": [],
   "source": [
    "credentials = service_account.Credentials.from_service_account_file(filename='/home/alex/apps/drivers/ContaServicoBigQuery.json', \n",
    "                                                                    scopes=['https://www.googleapis.com/auth/cloud-platform'])"
   ]
  },
  {
   "cell_type": "code",
   "execution_count": 22,
   "metadata": {},
   "outputs": [],
   "source": [
    "df_final.to_gbq(credentials=credentials, \n",
    "                destination_table='curso_etl.etl_pdf', \n",
    "                if_exists='replace')"
   ]
  }
 ],
 "metadata": {
  "kernelspec": {
   "display_name": "Python 3.10.4 ('etl')",
   "language": "python",
   "name": "python3"
  },
  "language_info": {
   "codemirror_mode": {
    "name": "ipython",
    "version": 3
   },
   "file_extension": ".py",
   "mimetype": "text/x-python",
   "name": "python",
   "nbconvert_exporter": "python",
   "pygments_lexer": "ipython3",
   "version": "3.10.4"
  },
  "vscode": {
   "interpreter": {
    "hash": "64906686ea76786fd309c557813215fc9310eb3fc476a9d9068aa1a35eaf21fd"
   }
  }
 },
 "nbformat": 4,
 "nbformat_minor": 2
}
